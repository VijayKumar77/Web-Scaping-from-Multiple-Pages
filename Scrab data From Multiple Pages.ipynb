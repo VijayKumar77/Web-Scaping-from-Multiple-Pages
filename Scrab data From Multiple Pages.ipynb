{
 "cells": [
  {
   "cell_type": "code",
   "execution_count": 1,
   "id": "004fb815",
   "metadata": {},
   "outputs": [],
   "source": [
    "from bs4 import BeautifulSoup \n",
    "import requests \n",
    "import csv\n",
    "import pandas as pd"
   ]
  },
  {
   "cell_type": "code",
   "execution_count": 10,
   "id": "85fe30dc",
   "metadata": {},
   "outputs": [],
   "source": [
    "products=[]\n",
    "prices=[]\n",
    "ratings=[]\n",
    "\n",
    "for i in range(1,11):\n",
    "    url=f\"https://www.flipkart.com/search?q=iphones+&otracker=search&otracker1=search&marketplace=FLIPKART&as-show=on&as=off&as-pos=1&as-type=HISTORY&as-backfill=on&page={i}\"\n",
    "    response = requests.get(url)\n",
    "    htmlcontent = response.content\n",
    "    soup = BeautifulSoup(htmlcontent,\"html.parser\")\n",
    "    for a in soup.findAll('a',href=True, attrs={'class':'_1fQZEK'}):\n",
    "      name=a.find('div',attrs={'class':'_4rR01T'})\n",
    "      price=a.find('div',attrs={'class':'_30jeq3 _1_WHN1'})\n",
    "      rating=a.find('div',attrs={'class':'_3LWZlK'})\n",
    "      products.append(name.text)\n",
    "      prices.append(price.text)\n",
    "      ratings.append(rating.text)\n"
   ]
  },
  {
   "cell_type": "code",
   "execution_count": 11,
   "id": "ae3eacd0",
   "metadata": {},
   "outputs": [
    {
     "name": "stdout",
     "output_type": "stream",
     "text": [
      "                                          Product Name   Prices Ratings\n",
      "0                  APPLE iPhone 12 mini (Black, 64 GB)  ₹37,999     4.5\n",
      "1                   APPLE iPhone 13 (Midnight, 128 GB)  ₹62,999     4.7\n",
      "2                      APPLE iPhone 11 (White, 128 GB)  ₹45,999     4.6\n",
      "3                        APPLE iPhone 11 (Red, 128 GB)  ₹43,999     4.6\n",
      "4                       APPLE iPhone 13 (Blue, 128 GB)  ₹62,999     4.7\n",
      "..                                                 ...      ...     ...\n",
      "235        APPLE iPhone SE 3rd Gen (Starlight, 128 GB)  ₹37,999     4.3\n",
      "236  Apple iPhone SE (Red, 64 GB) (Includes EarPods...  ₹28,990     4.5\n",
      "237                    APPLE iPhone XR (Yellow, 64 GB)  ₹39,999     4.6\n",
      "238                  APPLE iPhone 7 (Jet Black, 32 GB)  ₹24,999     4.5\n",
      "239                     APPLE iPhone XR (Black, 64 GB)  ₹36,999     4.6\n",
      "\n",
      "[240 rows x 3 columns]\n"
     ]
    }
   ],
   "source": [
    "import pandas as pd\n",
    "df = pd.DataFrame({'Product Name':products,'Prices':prices,'Ratings':ratings})\n",
    "print(df)"
   ]
  },
  {
   "cell_type": "code",
   "execution_count": 27,
   "id": "b96de5de",
   "metadata": {},
   "outputs": [],
   "source": [
    "df.to_csv('paging.csv')"
   ]
  },
  {
   "cell_type": "code",
   "execution_count": null,
   "id": "e3a7a353",
   "metadata": {},
   "outputs": [],
   "source": []
  }
 ],
 "metadata": {
  "kernelspec": {
   "display_name": "Python 3 (ipykernel)",
   "language": "python",
   "name": "python3"
  },
  "language_info": {
   "codemirror_mode": {
    "name": "ipython",
    "version": 3
   },
   "file_extension": ".py",
   "mimetype": "text/x-python",
   "name": "python",
   "nbconvert_exporter": "python",
   "pygments_lexer": "ipython3",
   "version": "3.9.13"
  }
 },
 "nbformat": 4,
 "nbformat_minor": 5
}
